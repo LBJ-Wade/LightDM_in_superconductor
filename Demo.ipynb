{
 "cells": [
  {
   "cell_type": "markdown",
   "metadata": {},
   "source": [
    "This notebook contains a couple of examples, and will be extended over time. Please see the documentation for more detailed information."
   ]
  },
  {
   "cell_type": "code",
   "execution_count": 1,
   "metadata": {},
   "outputs": [],
   "source": [
    "import numpy as np\n",
    "import matplotlib.pyplot as plt\n",
    "%matplotlib inline"
   ]
  },
  {
   "cell_type": "markdown",
   "metadata": {},
   "source": [
    "# Setting up an `Ensemble`"
   ]
  },
  {
   "cell_type": "code",
   "execution_count": 2,
   "metadata": {},
   "outputs": [],
   "source": [
    "from scdc.ensemble import Ensemble\n",
    "from scdc.event import Event\n",
    "from scdc.particle import Quasiparticle\n",
    "from scdc.materials import ALUMINUM\n",
    "from scdc import plot  # Contains matplotlib configuration code"
   ]
  },
  {
   "cell_type": "markdown",
   "metadata": {},
   "source": [
    "Let's configure an `Ensemble` of 1000 copies of a quasiparticle in the forward direction with energy $5\\Delta$."
   ]
  },
  {
   "cell_type": "code",
   "execution_count": 3,
   "metadata": {},
   "outputs": [],
   "source": [
    "qp = Quasiparticle(energy=5, cos_theta=1, material=ALUMINUM)\n",
    "simulation = Ensemble(\n",
    "    [Event([qp], ALUMINUM)], # Represents an `Event` with one QP in the initial state\n",
    "    copies=1000\n",
    ")"
   ]
  },
  {
   "cell_type": "markdown",
   "metadata": {},
   "source": [
    "Now we can run the down-conversion process recursively until all final states are ballistic."
   ]
  },
  {
   "cell_type": "code",
   "execution_count": 4,
   "metadata": {},
   "outputs": [],
   "source": [
    "simulation.chain()"
   ]
  },
  {
   "cell_type": "markdown",
   "metadata": {},
   "source": [
    "We can see all of the initial-state particles in the ensemble using the `initial_state` attribute. For example, all of these have energy $5\\Delta$:"
   ]
  },
  {
   "cell_type": "code",
   "execution_count": 5,
   "metadata": {},
   "outputs": [
    {
     "data": {
      "text/plain": [
       "<scdc.particle.ParticleCollection at 0x7fbf818a4c88>"
      ]
     },
     "execution_count": 5,
     "metadata": {},
     "output_type": "execute_result"
    }
   ],
   "source": [
    "simulation.initial_state"
   ]
  },
  {
   "cell_type": "markdown",
   "metadata": {},
   "source": [
    "The `ParticleCollection` is list-like and can be sliced:"
   ]
  },
  {
   "cell_type": "code",
   "execution_count": 6,
   "metadata": {},
   "outputs": [
    {
     "data": {
      "text/plain": [
       "<scdc.particle.ParticleCollection at 0x7fbf6508c940>"
      ]
     },
     "execution_count": 6,
     "metadata": {},
     "output_type": "execute_result"
    }
   ],
   "source": [
    "simulation.initial_state[:5]"
   ]
  },
  {
   "cell_type": "markdown",
   "metadata": {},
   "source": [
    "…but also supports accessing some attributes for all particles at once:"
   ]
  },
  {
   "cell_type": "code",
   "execution_count": 7,
   "metadata": {},
   "outputs": [
    {
     "data": {
      "text/plain": [
       "array([5., 5., 5., 5., 5.])"
      ]
     },
     "execution_count": 7,
     "metadata": {},
     "output_type": "execute_result"
    }
   ],
   "source": [
    "simulation.initial_state[:5].energy"
   ]
  },
  {
   "cell_type": "markdown",
   "metadata": {},
   "source": [
    "We can access the final state of each event individually by indexing the `Ensemble`:"
   ]
  },
  {
   "cell_type": "code",
   "execution_count": 8,
   "metadata": {},
   "outputs": [
    {
     "data": {
      "text/plain": [
       "<Event [QP]---QuasiparticlePhononEmission--->[QP,Ph]>"
      ]
     },
     "execution_count": 8,
     "metadata": {},
     "output_type": "execute_result"
    }
   ],
   "source": [
    "simulation[0]"
   ]
  },
  {
   "cell_type": "code",
   "execution_count": 9,
   "metadata": {},
   "outputs": [
    {
     "data": {
      "text/plain": [
       "[<QP E=1.303, k/kF-1=6.444e-06, cos(theta)=1.000>,\n",
       " <Ph E=3.697, k/kF-1=1.756e+05, cos(theta)=0.008>]"
      ]
     },
     "execution_count": 9,
     "metadata": {},
     "output_type": "execute_result"
    }
   ],
   "source": [
    "list(simulation[0].out)"
   ]
  },
  {
   "cell_type": "markdown",
   "metadata": {},
   "source": [
    "And we can access the final-state particles after down-conversion using the `leaf_particles` attribute:"
   ]
  },
  {
   "cell_type": "code",
   "execution_count": 10,
   "metadata": {},
   "outputs": [
    {
     "data": {
      "text/plain": [
       "18009"
      ]
     },
     "execution_count": 10,
     "metadata": {},
     "output_type": "execute_result"
    }
   ],
   "source": [
    "len(simulation.leaf_particles)"
   ]
  },
  {
   "cell_type": "markdown",
   "metadata": {},
   "source": [
    "We can subset to look only at a certain particle type:"
   ]
  },
  {
   "cell_type": "code",
   "execution_count": 11,
   "metadata": {},
   "outputs": [
    {
     "data": {
      "text/plain": [
       "<scdc.particle.ParticleCollection at 0x7fbf6509cf60>"
      ]
     },
     "execution_count": 11,
     "metadata": {},
     "output_type": "execute_result"
    }
   ],
   "source": [
    "simulation.leaf_particles.quasiparticles"
   ]
  },
  {
   "cell_type": "markdown",
   "metadata": {},
   "source": [
    "and we can e.g. make a plot of their angular distribution."
   ]
  },
  {
   "cell_type": "code",
   "execution_count": 12,
   "metadata": {
    "scrolled": false
   },
   "outputs": [
    {
     "data": {
      "image/png": "[encoded data removed]",
      "text/plain": [
       "<Figure size 576x432 with 1 Axes>"
      ]
     },
     "metadata": {
      "needs_background": "light"
     },
     "output_type": "display_data"
    }
   ],
   "source": [
    "plt.hist(simulation.leaf_particles.quasiparticles.cos_theta,\n",
    "         density=True, label='Final QPs', histtype='step', lw=3)\n",
    "plt.hist(simulation.leaf_particles.phonons.cos_theta,\n",
    "         density=True, label='Final Phonons', histtype='step', lw=3)\n",
    "plt.legend(loc=2)\n",
    "plt.xlim(-1, 1)\n",
    "plt.xlabel(r'$\\cos\\theta$')\n",
    "plt.ylabel('Probability density');"
   ]
  },
  {
   "cell_type": "markdown",
   "metadata": {},
   "source": [
    "# Sampling initial excitations"
   ]
  },
  {
   "cell_type": "markdown",
   "metadata": {},
   "source": [
    "We can also sample initial excitations from dark matter scattering. This version uses a coarse grid for a fast demonstration."
   ]
  },
  {
   "cell_type": "code",
   "execution_count": 13,
   "metadata": {},
   "outputs": [],
   "source": [
    "from scdc.initial.distribution.integral import InitialSampler\n",
    "from scdc.initial.halo import StandardHaloDistribution\n",
    "from scdc.initial.response import HybridResponseFunction\n",
    "from scdc.initial.matrix_element import FiducialMatrixElement"
   ]
  },
  {
   "cell_type": "markdown",
   "metadata": {},
   "source": [
    "Configure the model-dependent ingredients:"
   ]
  },
  {
   "cell_type": "code",
   "execution_count": 14,
   "metadata": {},
   "outputs": [],
   "source": [
    "KMS = 3.33564e-6  # km/s in natural units\n",
    "material = ALUMINUM\n",
    "vdf = StandardHaloDistribution(\n",
    "    v_0=220*KMS/material.v,\n",
    "    v_esc=550*KMS/material.v,\n",
    "    v_wind=230*KMS/material.v\n",
    ")\n",
    "response = HybridResponseFunction(material, 1)"
   ]
  },
  {
   "cell_type": "markdown",
   "metadata": {},
   "source": [
    "Fix the DM mass and assume a massless mediator. Note that `material.m` is the material mass unit in eV, so the below sets up a model with a DM mass of 3 keV."
   ]
  },
  {
   "cell_type": "code",
   "execution_count": 15,
   "metadata": {},
   "outputs": [],
   "source": [
    "me = FiducialMatrixElement(mediator_mass=0)\n",
    "m_nt = 3e3 / material.m"
   ]
  },
  {
   "cell_type": "markdown",
   "metadata": {},
   "source": [
    "Now we can initialize the sampler. Note that initialization is the expensive step, here made much faster by the use of too-small values for `n_cq`, `n_rq`, and `n_v1`. (See the module `mpi.initial` for suggested configuration.)"
   ]
  },
  {
   "cell_type": "code",
   "execution_count": 16,
   "metadata": {},
   "outputs": [
    {
     "name": "stdout",
     "output_type": "stream",
     "text": [
      "CPU times: user 1min 6s, sys: 346 ms, total: 1min 6s\n",
      "Wall time: 1min 8s\n"
     ]
    }
   ],
   "source": [
    "%%time\n",
    "sampler_nt = InitialSampler(m_nt, me, material, response, vdf, n_cq=20, n_rq=20)"
   ]
  },
  {
   "cell_type": "markdown",
   "metadata": {},
   "source": [
    "Finally, we can draw samples from the ensemble:"
   ]
  },
  {
   "cell_type": "code",
   "execution_count": 17,
   "metadata": {},
   "outputs": [
    {
     "name": "stdout",
     "output_type": "stream",
     "text": [
      "CPU times: user 9.28 s, sys: 150 ms, total: 9.43 s\n",
      "Wall time: 11.1 s\n"
     ]
    }
   ],
   "source": [
    "%%time\n",
    "simulation = sampler_nt.ensemble(1000)"
   ]
  },
  {
   "cell_type": "markdown",
   "metadata": {},
   "source": [
    "Now `simulation` is an `Ensemble` with 1000 initial quasiparticle pairs, and we can run `chain()` to down-convert these initial excitations. For now, though, to look at the initial quasiparticles we have generated, we can tell `simulation` to consider these quasiparticles to be the final states:"
   ]
  },
  {
   "cell_type": "code",
   "execution_count": 18,
   "metadata": {},
   "outputs": [],
   "source": [
    "for e in simulation:\n",
    "    for p in e.out:\n",
    "        p.dest.final = True"
   ]
  },
  {
   "cell_type": "markdown",
   "metadata": {},
   "source": [
    "…and now we can access them with `leaf_particles`:"
   ]
  },
  {
   "cell_type": "code",
   "execution_count": 19,
   "metadata": {},
   "outputs": [
    {
     "data": {
      "image/png": "[encoded data removed]",
      "text/plain": [
       "<Figure size 576x432 with 1 Axes>"
      ]
     },
     "metadata": {
      "needs_background": "light"
     },
     "output_type": "display_data"
    }
   ],
   "source": [
    "plt.hist(simulation.leaf_particles.quasiparticles.cos_theta, histtype='step', lw=3)\n",
    "plt.xlabel(r'$\\cos\\theta$')\n",
    "plt.ylabel('Count');"
   ]
  }
 ],
 "metadata": {
  "kernelspec": {
   "display_name": "Python 3",
   "language": "python",
   "name": "python3"
  },
  "language_info": {
   "codemirror_mode": {
    "name": "ipython",
    "version": 3
   },
   "file_extension": ".py",
   "mimetype": "text/x-python",
   "name": "python",
   "nbconvert_exporter": "python",
   "pygments_lexer": "ipython3",
   "version": "3.7.3"
  }
 },
 "nbformat": 4,
 "nbformat_minor": 2
}
